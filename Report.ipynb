{
 "cells": [
  {
   "cell_type": "code",
   "execution_count": 1,
   "id": "d362fa4a",
   "metadata": {},
   "outputs": [],
   "source": [
    "# Name: Ruidi Zhao\n",
    "# Email: ruidizhao2022@u.northwestern.edu\n",
    "# Time: 07/21/2021"
   ]
  },
  {
   "cell_type": "markdown",
   "id": "d75c1bd3",
   "metadata": {},
   "source": [
    "# Introduction"
   ]
  },
  {
   "cell_type": "markdown",
   "id": "75ba6f88",
   "metadata": {},
   "source": [
    "The dataset contains the polic department incident reports from 2018 to present. It comes from the San Francisco\n",
    "Open Data Portal: https://data.sfgov.org/Public-Safety/Police-Department-Incident-Reports-2018-to-Present/wg3w-h783"
   ]
  },
  {
   "cell_type": "markdown",
   "id": "596e07b9",
   "metadata": {},
   "source": [
    "This projects investigate the potential reasons behind the decreasing incident solved rate from 2018 to 2021, such as incident time, incident count, and incident category.  "
   ]
  },
  {
   "cell_type": "markdown",
   "id": "4d27058b",
   "metadata": {},
   "source": [
    "# Problem Defined"
   ]
  },
  {
   "cell_type": "markdown",
   "id": "bf1fcedd",
   "metadata": {},
   "source": [
    "An incident is considered `Solved` if its Resolution is not `Open or Active`. The incident solved rate is defined as: number of unique incident solved/number of unique incident reported. From the below graph, we can see that the incident solved rate is keep decreasing since 2018:"
   ]
  },
  {
   "cell_type": "markdown",
   "id": "76c8e6bd",
   "metadata": {},
   "source": [
    "<img src=\"incident_solved_rate.png\">"
   ]
  },
  {
   "cell_type": "markdown",
   "id": "6f7a36c7",
   "metadata": {},
   "source": [
    "In the following part of the project, potential reasons behind this decrease are explored. "
   ]
  },
  {
   "cell_type": "markdown",
   "id": "355495c8",
   "metadata": {},
   "source": [
    "# Exploratory Data Analysis"
   ]
  },
  {
   "cell_type": "markdown",
   "id": "32c7ab95",
   "metadata": {},
   "source": [
    "### Guess 1: number of incidents "
   ]
  },
  {
   "cell_type": "markdown",
   "id": "acaf1cad",
   "metadata": {},
   "source": [
    "The first guess is that maybe the number of incidents increased from 2018 to 2021. Therefore, the police were not able to solve the same percentage of incidents as before. However, from the below graph we can see that the number of incidents is actually decreasing. "
   ]
  },
  {
   "cell_type": "markdown",
   "id": "5357aa21",
   "metadata": {},
   "source": [
    "<img src=\"num_of_incident.png\">"
   ]
  },
  {
   "cell_type": "markdown",
   "id": "75e276b6",
   "metadata": {},
   "source": [
    "### Guess 2: Incident Time"
   ]
  },
  {
   "cell_type": "markdown",
   "id": "4e4e19f1",
   "metadata": {},
   "source": [
    "The second guess is related to incident time. Specifically, whether the incident happens at day or night. It is common sense that night is usually considered more dangerous than day, and more difficult to solved. Maybe increasing night crimes leads to lower incident solved rate? "
   ]
  },
  {
   "cell_type": "markdown",
   "id": "9100e2a7",
   "metadata": {},
   "source": [
    "<img src=\"day_night_count.png\">"
   ]
  },
  {
   "cell_type": "markdown",
   "id": "7a409161",
   "metadata": {},
   "source": [
    "<img src=\"day_night_rate.png\">"
   ]
  },
  {
   "cell_type": "markdown",
   "id": "daecd6ea",
   "metadata": {},
   "source": [
    "From the above graphs, we did not observe an increasing night incidents. However, this graph deserves more investigation. For example, usually the night crimes are harder to solve, but the rate difference between day and night is getting closer and closer, and in 2021 they are almost the same. "
   ]
  },
  {
   "cell_type": "markdown",
   "id": "f041541d",
   "metadata": {},
   "source": [
    "### Guess 3: Incident Categories\n"
   ]
  },
  {
   "cell_type": "markdown",
   "id": "55d5fef1",
   "metadata": {},
   "source": [
    "Similar to guess 2, incident categories can be one of the reasons. If there are a particular type of incident that is harder to solve, and such incident is increasing, then probably our solved rate will decline. "
   ]
  },
  {
   "cell_type": "markdown",
   "id": "c0a0a475",
   "metadata": {},
   "source": [
    "The graph is too large to be posted here. Please check out the graph in the \"main.ipynb\". In summary, most categories have a decreasing number of incidents from 2018 to 2021. However, the solved rates do not behave the same. Some of them (Civil Sidewalks) have the highest value at 2021, and some of them(Homicide) have irregular trend. We need to investigate more about this. "
   ]
  },
  {
   "cell_type": "markdown",
   "id": "c6a999e0",
   "metadata": {},
   "source": [
    "### Guess 4: Incident Day of the Week"
   ]
  },
  {
   "cell_type": "markdown",
   "id": "eacc4f4b",
   "metadata": {},
   "source": [
    "Another possible reason is the incident day of the week. Maybe people likes to go out more on weekdays now and weekdays incidents are more difficult to solve. "
   ]
  },
  {
   "cell_type": "markdown",
   "id": "32bc8038",
   "metadata": {},
   "source": [
    "<img src=\"day_of_week_count.png\">"
   ]
  },
  {
   "cell_type": "markdown",
   "id": "5e74d10c",
   "metadata": {},
   "source": [
    "<img src=\"day_of_week_rate.png\">"
   ]
  },
  {
   "cell_type": "code",
   "execution_count": null,
   "id": "3e3603e5",
   "metadata": {},
   "outputs": [],
   "source": []
  },
  {
   "cell_type": "markdown",
   "id": "536e77ba",
   "metadata": {},
   "source": [
    "### Guess 5: Police District"
   ]
  },
  {
   "cell_type": "markdown",
   "id": "c2c42d31",
   "metadata": {},
   "source": [
    "The last reason explored the police district. It is possible that due to some reasons, the number of police in one police district decreases, therefore less incidents are able to be solved. "
   ]
  },
  {
   "cell_type": "markdown",
   "id": "6b376e1e",
   "metadata": {},
   "source": [
    "<img src=\"police_count.png\">"
   ]
  },
  {
   "cell_type": "markdown",
   "id": "4ce666af",
   "metadata": {},
   "source": [
    "<img src=\"police_rate.png\">"
   ]
  },
  {
   "cell_type": "markdown",
   "id": "1555af4b",
   "metadata": {},
   "source": [
    "# Statistical Significance Analysis"
   ]
  },
  {
   "cell_type": "markdown",
   "id": "e469f6a6",
   "metadata": {},
   "source": [
    "ANOVA is used for hypothesis testing, since we are comparing the mean of different years. "
   ]
  },
  {
   "cell_type": "markdown",
   "id": "1dda49cf",
   "metadata": {},
   "source": [
    "$H_{0}$: The solved rates from 2018 to 2021 are the same. <br>\n",
    "$H_{1}$: At least one rate is different from the other. <br>\n",
    "Assumption: \n",
    "  - Normality: The data is large enough so based on Central Limit Theorem, the solved rate approximate a normal distribution\n",
    "  - HomoscedasticL Assume that the variances of different year are the same. \n",
    "  - Independence: Assume that the data is indepedent across and within the different years"
   ]
  },
  {
   "cell_type": "markdown",
   "id": "1687d11a",
   "metadata": {},
   "source": [
    "The F statistics (160661.12689985926) is much larger than the critical value (crit), so we reject the null hypothesis. "
   ]
  },
  {
   "cell_type": "markdown",
   "id": "710810ec",
   "metadata": {},
   "source": [
    "# Future Work"
   ]
  },
  {
   "cell_type": "markdown",
   "id": "7bd9107d",
   "metadata": {},
   "source": [
    "Due to the time limitation, I can not explore more features. If time allows, I will explore the remaining features in the dataset. I will also look at other related dataset, such as the police distribution of SF police stations."
   ]
  },
  {
   "cell_type": "code",
   "execution_count": null,
   "id": "13b7dcf5",
   "metadata": {},
   "outputs": [],
   "source": []
  }
 ],
 "metadata": {
  "kernelspec": {
   "display_name": "Python 3",
   "language": "python",
   "name": "python3"
  },
  "language_info": {
   "codemirror_mode": {
    "name": "ipython",
    "version": 3
   },
   "file_extension": ".py",
   "mimetype": "text/x-python",
   "name": "python",
   "nbconvert_exporter": "python",
   "pygments_lexer": "ipython3",
   "version": "3.9.5"
  }
 },
 "nbformat": 4,
 "nbformat_minor": 5
}
